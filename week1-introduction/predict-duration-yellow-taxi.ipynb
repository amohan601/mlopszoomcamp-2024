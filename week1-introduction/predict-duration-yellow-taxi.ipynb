{
 "cells": [
  {
   "cell_type": "code",
   "execution_count": 54,
   "id": "ede8e4aa-0f3c-4c47-ac35-2b66de12bace",
   "metadata": {},
   "outputs": [],
   "source": [
    "import pandas as pd\n",
    "import seaborn as sns\n",
    "import matplotlib.pyplot as plt"
   ]
  },
  {
   "cell_type": "code",
   "execution_count": 55,
   "id": "d25a6f6c-41d6-4242-9f7e-637da65de93f",
   "metadata": {},
   "outputs": [],
   "source": [
    "from sklearn.feature_extraction import DictVectorizer\n",
    "from sklearn.linear_model import LinearRegression\n",
    "from sklearn.linear_model import Lasso\n",
    "from sklearn.linear_model import Ridge\n",
    "from sklearn.metrics import mean_squared_error\n",
    "from sklearn.metrics import root_mean_squared_error"
   ]
  },
  {
   "cell_type": "code",
   "execution_count": 63,
   "id": "eef3134b-f978-4159-8fef-01ac6e799228",
   "metadata": {},
   "outputs": [],
   "source": [
    "def load(file):\n",
    "    df = pd.read_parquet(file)\n",
    "    print(df.columns)\n",
    "    # print(df)\n",
    "    print(df.columns.size)\n",
    "    print('shape at beginning ', df.shape)\n",
    "    df['duration'] = df.tpep_dropoff_datetime - df.tpep_pickup_datetime\n",
    "    # print(df.duration)\n",
    "    df.duration = df.duration.apply(lambda x: x.total_seconds()/60)\n",
    "    # print(df.duration)\n",
    "    print('std deviation of duration', df.duration.std())\n",
    "    total = df.shape[0]\n",
    "    records_in_1_60_min_range = df[ (df.duration >= 1) & (df.duration <= 60) ].shape[0]\n",
    "    percentage_in_range = round(records_in_1_60_min_range/total, 2)\n",
    "    print('percentage of outliers',percentage_in_range)\n",
    "    #remove outliers\n",
    "    df = df[ (df.duration >= 1) & (df.duration <= 60) ]\n",
    "    print('shape after removing outliers', df.shape)\n",
    "\n",
    "    #PULocationID\tDOLocationID\n",
    "    categories = ['PULocationID', 'DOLocationID']\n",
    "    df[categories] = df[categories].astype(str)\n",
    "    data_dict = df[categories].to_dict(orient='records')\n",
    "    print('categories shape ' , df[categories].shape)\n",
    "    return df, data_dict"
   ]
  },
  {
   "cell_type": "markdown",
   "id": "155405e7-c750-4c8e-8248-50ee3468899b",
   "metadata": {},
   "source": [
    "# Load training data (January 2023)\n",
    "### Q1. Downloading the data\n",
    "### Q2. Computing duration\n",
    "### Q3. Dropping outliers\n",
    "### Q4. One-hot encoding"
   ]
  },
  {
   "cell_type": "code",
   "execution_count": 65,
   "id": "c6f80dcf-2ab4-448e-ada3-8627946a86a4",
   "metadata": {},
   "outputs": [
    {
     "name": "stdout",
     "output_type": "stream",
     "text": [
      "Index(['VendorID', 'tpep_pickup_datetime', 'tpep_dropoff_datetime',\n",
      "       'passenger_count', 'trip_distance', 'RatecodeID', 'store_and_fwd_flag',\n",
      "       'PULocationID', 'DOLocationID', 'payment_type', 'fare_amount', 'extra',\n",
      "       'mta_tax', 'tip_amount', 'tolls_amount', 'improvement_surcharge',\n",
      "       'total_amount', 'congestion_surcharge', 'airport_fee'],\n",
      "      dtype='object')\n",
      "19\n",
      "shape at beginning  (3066766, 19)\n",
      "std deviation of duration 42.59435124195458\n",
      "percentage of outliers 0.98\n",
      "shape after removing outliers (3009173, 20)\n",
      "categories shape  (3009173, 2)\n"
     ]
    }
   ],
   "source": [
    "df_train, train_data_dict = load('../data/yellow_tripdata_2023-01.parquet')"
   ]
  },
  {
   "cell_type": "markdown",
   "id": "cb9c04f4-67a5-47f5-ba33-962ca8267676",
   "metadata": {},
   "source": [
    "## use vectorizer on train data"
   ]
  },
  {
   "cell_type": "code",
   "execution_count": 69,
   "id": "721975b9-8da8-4cbc-a943-23545fbfe838",
   "metadata": {},
   "outputs": [
    {
     "data": {
      "text/plain": [
       "(3009173, 515)"
      ]
     },
     "execution_count": 69,
     "metadata": {},
     "output_type": "execute_result"
    }
   ],
   "source": [
    "dv = DictVectorizer()\n",
    "x_train = dv.fit_transform(train_data_dict)\n",
    "x_train.shape"
   ]
  },
  {
   "cell_type": "markdown",
   "id": "9f8c5730-4660-4048-9d06-a5ff8e2942cd",
   "metadata": {},
   "source": [
    "# Load test data Feb 2023"
   ]
  },
  {
   "cell_type": "code",
   "execution_count": 67,
   "id": "37383c73-4d16-48fb-8f05-8b2de801d235",
   "metadata": {},
   "outputs": [
    {
     "name": "stdout",
     "output_type": "stream",
     "text": [
      "Index(['VendorID', 'tpep_pickup_datetime', 'tpep_dropoff_datetime',\n",
      "       'passenger_count', 'trip_distance', 'RatecodeID', 'store_and_fwd_flag',\n",
      "       'PULocationID', 'DOLocationID', 'payment_type', 'fare_amount', 'extra',\n",
      "       'mta_tax', 'tip_amount', 'tolls_amount', 'improvement_surcharge',\n",
      "       'total_amount', 'congestion_surcharge', 'Airport_fee'],\n",
      "      dtype='object')\n",
      "19\n",
      "shape at beginning  (2913955, 19)\n",
      "std deviation of duration 42.84210176105113\n",
      "percentage of outliers 0.98\n",
      "shape after removing outliers (2855951, 20)\n",
      "categories shape  (2855951, 2)\n"
     ]
    }
   ],
   "source": [
    "df_val, val_data_dict = load('../data/yellow_tripdata_2023-02.parquet')"
   ]
  },
  {
   "cell_type": "markdown",
   "id": "bf230738-0e5d-40c3-8220-e4483c8910f6",
   "metadata": {},
   "source": [
    "## use vectorizer on test data"
   ]
  },
  {
   "cell_type": "code",
   "execution_count": 70,
   "id": "14f12661-2b02-4dd2-ac18-e6d6d0f192f7",
   "metadata": {},
   "outputs": [],
   "source": [
    "x_val = dv.transform(val_data_dict)"
   ]
  },
  {
   "cell_type": "markdown",
   "id": "3609298e-c9a8-448d-a92d-74bb5c213cf3",
   "metadata": {},
   "source": [
    "## Q5. train the model"
   ]
  },
  {
   "cell_type": "code",
   "execution_count": 76,
   "id": "e5dad014-f0c6-446c-97a0-77ab66099abd",
   "metadata": {},
   "outputs": [],
   "source": [
    "y_train = df_train['duration'].values"
   ]
  },
  {
   "cell_type": "code",
   "execution_count": 74,
   "id": "f6729de1-63ce-46b2-bb31-fe902c9fcf06",
   "metadata": {},
   "outputs": [],
   "source": [
    "lr = LinearRegression()\n",
    "lr.fit(x_train, y_train)\n",
    "y_pred = lr.predict(x_train)"
   ]
  },
  {
   "cell_type": "code",
   "execution_count": 75,
   "id": "617bae5e-d9da-4ac3-9b21-bf2c7e668a58",
   "metadata": {},
   "outputs": [
    {
     "data": {
      "text/plain": [
       "7.649261929201487"
      ]
     },
     "execution_count": 75,
     "metadata": {},
     "output_type": "execute_result"
    }
   ],
   "source": [
    "root_mean_squared_error(y_train, y_pred)"
   ]
  },
  {
   "cell_type": "markdown",
   "id": "f10f2c03-7abc-40b7-b077-771022910842",
   "metadata": {},
   "source": [
    "## Q6. Evaluating the model"
   ]
  },
  {
   "cell_type": "code",
   "execution_count": 77,
   "id": "4579927b-a357-4726-ae92-6643281d8996",
   "metadata": {},
   "outputs": [],
   "source": [
    "y_val = df_val['duration'].values\n",
    "y_pred = lr.predict(x_val)"
   ]
  },
  {
   "cell_type": "code",
   "execution_count": 78,
   "id": "279ef316-6043-4cd8-bce7-7a4261343635",
   "metadata": {},
   "outputs": [
    {
     "data": {
      "text/plain": [
       "7.811819793542861"
      ]
     },
     "execution_count": 78,
     "metadata": {},
     "output_type": "execute_result"
    }
   ],
   "source": [
    "root_mean_squared_error(y_val, y_pred)"
   ]
  },
  {
   "cell_type": "code",
   "execution_count": null,
   "id": "7ed4552f-b912-47f3-82b6-bceac415ae72",
   "metadata": {},
   "outputs": [],
   "source": []
  }
 ],
 "metadata": {
  "kernelspec": {
   "display_name": "Python 3 (ipykernel)",
   "language": "python",
   "name": "python3"
  },
  "language_info": {
   "codemirror_mode": {
    "name": "ipython",
    "version": 3
   },
   "file_extension": ".py",
   "mimetype": "text/x-python",
   "name": "python",
   "nbconvert_exporter": "python",
   "pygments_lexer": "ipython3",
   "version": "3.9.19"
  }
 },
 "nbformat": 4,
 "nbformat_minor": 5
}
